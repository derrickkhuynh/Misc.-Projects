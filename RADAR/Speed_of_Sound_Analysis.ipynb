{
  "nbformat": 4,
  "nbformat_minor": 0,
  "metadata": {
    "colab": {
      "name": "Speed of Sound Analysis.ipynb",
      "provenance": [],
      "collapsed_sections": [],
      "toc_visible": true,
      "include_colab_link": true
    },
    "kernelspec": {
      "name": "python3",
      "display_name": "Python 3"
    }
  },
  "cells": [
    {
      "cell_type": "markdown",
      "metadata": {
        "id": "view-in-github",
        "colab_type": "text"
      },
      "source": [
        "<a href=\"https://colab.research.google.com/github/derrickkhuynh/Misc.-Projects/blob/master/RADAR/Speed_of_Sound_Analysis.ipynb\" target=\"_parent\"><img src=\"https://colab.research.google.com/assets/colab-badge.svg\" alt=\"Open In Colab\"/></a>"
      ]
    },
    {
      "cell_type": "markdown",
      "metadata": {
        "id": "xFQTMZfWaYBA",
        "colab_type": "text"
      },
      "source": [
        "# Speed of sound calculation\n"
      ]
    },
    {
      "cell_type": "code",
      "metadata": {
        "id": "LZSQ3cMpaKAL",
        "colab_type": "code",
        "outputId": "92fdbc32-7e18-4fc8-ba35-ba3567241ddd",
        "colab": {
          "base_uri": "https://localhost:8080/",
          "height": 129
        }
      },
      "source": [
        "# Run this cell to mount your Google Drive.\n",
        "from google.colab import drive\n",
        "drive.mount('drive')"
      ],
      "execution_count": 0,
      "outputs": [
        {
          "output_type": "stream",
          "text": [
            "Go to this URL in a browser: https://accounts.google.com/o/oauth2/auth?client_id=947318989803-6bn6qk8qdgf4n4g3pfee6491hc0brc4i.apps.googleusercontent.com&redirect_uri=urn%3aietf%3awg%3aoauth%3a2.0%3aoob&response_type=code&scope=email%20https%3a%2f%2fwww.googleapis.com%2fauth%2fdocs.test%20https%3a%2f%2fwww.googleapis.com%2fauth%2fdrive%20https%3a%2f%2fwww.googleapis.com%2fauth%2fdrive.photos.readonly%20https%3a%2f%2fwww.googleapis.com%2fauth%2fpeopleapi.readonly\n",
            "\n",
            "Enter your authorization code:\n",
            "··········\n",
            "Mounted at drive\n"
          ],
          "name": "stdout"
        }
      ]
    },
    {
      "cell_type": "code",
      "metadata": {
        "id": "QbD6CGwt_WSC",
        "colab_type": "code",
        "colab": {}
      },
      "source": [
        "import numpy as np\n",
        "import matplotlib.pyplot as plt"
      ],
      "execution_count": 0,
      "outputs": []
    },
    {
      "cell_type": "code",
      "metadata": {
        "id": "BN-SeCzbSNzP",
        "colab_type": "code",
        "colab": {}
      },
      "source": [
        "# Read in data\n",
        "read_in_array = np.loadtxt('/content/drive/My Drive/Physics 4BL Lab 6/Huang, Teresa/Final Project/Data/Test Distances (Calibration).csv', delimiter = ',')\n",
        "trial10cm = read_in_array[:,5]\n",
        "trial20cm = read_in_array[:,6]\n",
        "trial30cm = read_in_array[:,7]\n",
        "trial40cm = read_in_array[:,8]\n",
        "trial50cm = read_in_array[:,9]\n",
        "trial60cm = read_in_array[:,10]\n",
        "trial70cm = read_in_array[:,11]\n",
        "trial80cm = read_in_array[:,12]\n",
        "trial90cm = read_in_array[:,13]"
      ],
      "execution_count": 0,
      "outputs": []
    },
    {
      "cell_type": "code",
      "metadata": {
        "id": "jBH6DRHrbuq8",
        "colab_type": "code",
        "colab": {}
      },
      "source": [
        "# Find means and standard deviations here\n",
        "mean_10 = np.mean(trial10cm)\n",
        "stddev_10 = np.std(trial10cm)\n",
        "mean_20 = np.mean(trial20cm)\n",
        "stddev_20 = np.std(trial20cm)\n",
        "mean_30 = np.mean(trial30cm)\n",
        "stddev_30 = np.std(trial30cm)\n",
        "mean_40 = np.mean(trial40cm)\n",
        "stddev_40 = np.std(trial40cm)\n",
        "mean_50 = np.mean(trial50cm)\n",
        "stddev_50 = np.std(trial50cm)\n",
        "mean_60 = np.mean(trial60cm)\n",
        "stddev_60 = np.std(trial60cm)\n",
        "mean_70 = np.mean(trial70cm)\n",
        "stddev_70 = np.std(trial70cm)\n",
        "mean_80 = np.mean(trial80cm)\n",
        "stddev_80 = np.std(trial80cm)\n",
        "mean_90 = np.mean(trial90cm)\n",
        "stddev_90 = np.std(trial90cm)"
      ],
      "execution_count": 0,
      "outputs": []
    },
    {
      "cell_type": "markdown",
      "metadata": {
        "id": "EdXAgVA_cCnH",
        "colab_type": "text"
      },
      "source": [
        "Now lets store all of our information in arrays so that we can plot them. First we'll take the from the Arduino to the board that we measured and store it in an array. For example\n",
        "\n",
        "\n",
        "\n",
        "```\n",
        "distances = np.array([10., 20., 30., ...])\n",
        "means = np.array([mean_10, mean_20, mean_30, ...])\n",
        "stddevs = np.array([stddev_10, stddev_20, stddev_30, ...])\n",
        "```\n",
        "\n"
      ]
    },
    {
      "cell_type": "code",
      "metadata": {
        "id": "Oo-HNBALbf8d",
        "colab_type": "code",
        "colab": {}
      },
      "source": [
        "# Make an array of standard deviation values\n",
        "stddev = np.array([stddev_10, stddev_20, stddev_30, stddev_40, stddev_50, stddev_60, stddev_70, stddev_80, stddev_90])\n",
        "\n",
        "# Make an array of mean values\n",
        "means = np.array([mean_10, mean_20, mean_30, mean_40, mean_50, mean_60, mean_70, mean_80, mean_90])\n",
        "\n",
        "# Make an array of distance values\n",
        "distances = np. array([10., 20., 30., 40., 50., 60., 70., 80., 90.])"
      ],
      "execution_count": 0,
      "outputs": []
    },
    {
      "cell_type": "markdown",
      "metadata": {
        "id": "1ejSkGsmcGn6",
        "colab_type": "text"
      },
      "source": [
        "Use the numpy polyfit function to fit an order = 1 function. The syntax for this is as follows:\n",
        "\n",
        "\n",
        "```\n",
        "fit = np.polyfit(x_data, y_data, order)\n",
        "```\n",
        "\n",
        "fit will be an array where fit[0] is m and fit[1] is b in y = mx + b. Once you have your fit, plot your data with the fit and find the speed of sound. Make sure to label your plot and use a legend!"
      ]
    },
    {
      "cell_type": "code",
      "metadata": {
        "id": "J1tOpJdVDJHs",
        "colab_type": "code",
        "outputId": "506dfe64-ca87-4657-b481-e8245b16acd6",
        "colab": {
          "base_uri": "https://localhost:8080/",
          "height": 297
        }
      },
      "source": [
        "\n",
        "#Do a linear fit using polyfit\n",
        "fit = np.polyfit(means, distances, 1)\n",
        "#Plot the data\n",
        "plt.scatter(means, distances, label = 'data')\n",
        "#Plot the fit\n",
        "plt.plot(means, (fit[0] * means + fit[1]), label = 'fit line', color = 'green')\n",
        "plt.ylabel('Distances (cm)')\n",
        "plt.xlabel('Time (us)')\n",
        "plt.legend()\n",
        "#Print out the speed of sound\n",
        "speed = fit[0]*10000\n",
        "\n",
        "print('speed_of_sound = ' + str(speed) + \"m/s\")"
      ],
      "execution_count": 0,
      "outputs": [
        {
          "output_type": "stream",
          "text": [
            "speed_of_sound = 369.0464933673133m/s\n"
          ],
          "name": "stdout"
        },
        {
          "output_type": "display_data",
          "data": {
            "image/png": "[encoded data removed]",
            "text/plain": [
              "<Figure size 432x288 with 1 Axes>"
            ]
          },
          "metadata": {
            "tags": []
          }
        }
      ]
    },
    {
      "cell_type": "code",
      "metadata": {
        "id": "eCseRjtrDB_e",
        "colab_type": "code",
        "colab": {}
      },
      "source": [
        ""
      ],
      "execution_count": 0,
      "outputs": []
    }
  ]
}